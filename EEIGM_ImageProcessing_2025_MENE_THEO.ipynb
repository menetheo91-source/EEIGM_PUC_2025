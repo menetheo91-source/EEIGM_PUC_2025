{
  "nbformat": 4,
  "nbformat_minor": 0,
  "metadata": {
    "colab": {
      "provenance": []
    },
    "kernelspec": {
      "name": "python3",
      "display_name": "Python 3"
    },
    "language_info": {
      "name": "python"
    }
  },
  "cells": [
    {
      "cell_type": "markdown",
      "metadata": {
        "id": "view-in-github"
      },
      "source": [
        "<a href=\"https://colab.research.google.com/github/xtianu/docencia/blob/main/UT/Test/Tirana_CV_Test_Solution.ipynb\" target=\"_parent\"><img src=\"https://colab.research.google.com/assets/colab-badge.svg\" alt=\"Open In Colab\"/></a>"
      ]
    },
    {
      "cell_type": "markdown",
      "source": [
        "# **EEIGM 2025**\n",
        "# Procesado de imagen: TEST FINAL\n",
        "\n",
        "Profesor: Christian Mata\n",
        "\n",
        "**Instrucciones**\n",
        "Crea tu ejercicio usando un gitHub y GoogleColab y envíalo a: christian.mata@upc.edu\n",
        "\n",
        "(puedes usar tus apuntes de clase)\n",
        "\n",
        "Tiempo estimado: 1h"
      ],
      "metadata": {
        "id": "DEdtJ88-n29l"
      }
    },
    {
      "cell_type": "markdown",
      "source": [
        "## 1. Carga y visualiza la imagen ‘acero’ (usando Google Drive o cargando manualmente la imagen) usando la librería skimage. Informa del tamaño de la imagen, del tipo de imagen y del rango de los niveles de gris de los píxeles.\n",
        "\n",
        "*(0,5 puntos)*"
      ],
      "metadata": {
        "id": "dhNR1jtln6nT"
      }
    },
    {
      "cell_type": "markdown",
      "source": [
        "## 2. Representa el histograma de la imagen. Explica los picos del histograma en función de las regiones de la imagen.\n",
        "\n",
        "*(0,5 puntos)*"
      ],
      "metadata": {
        "id": "EuuFKpLdoBdo"
      }
    },
    {
      "cell_type": "markdown",
      "source": [
        "Descripción del resultado obtenido:"
      ],
      "metadata": {
        "id": "FGfhJsOfY68e"
      }
    },
    {
      "cell_type": "markdown",
      "source": [
        "## 3. Aplica ruido a la imagen y utiliza la función adecuada para eliminar dicho ruido. Muestra un plot de tres imágenes (imagen original, imagen con ruído e imagen filtrada sin ruido).\n",
        "\n",
        "*(1 punto)*"
      ],
      "metadata": {
        "id": "K1uZ-rW4jUga"
      }
    },
    {
      "cell_type": "markdown",
      "source": [
        "## 4. Segmenta la imagen utilizando un algoritmo de agrupamiento k-means con k = 2 y representa el resultado.\n",
        "(* Recuerda usar la imagen resultante del apartado anterior, sin ruido)\n",
        "\n",
        "*(1 punto)*"
      ],
      "metadata": {
        "id": "CTXVPMKoozd_"
      }
    },
    {
      "cell_type": "markdown",
      "source": [
        "## 5. Etiqueta los objetos encontrados en la imagen. Genera una figura con la imagen original y la imagen etiquetada.\n",
        "\n",
        "*(1 punto)*\n"
      ],
      "metadata": {
        "id": "7GJkDgcfo9HG"
      }
    },
    {
      "cell_type": "markdown",
      "source": [
        "Descripción del resultado:\n",
        "**¿Cuántas regiones hay en la imagen?**"
      ],
      "metadata": {
        "id": "sVNOVLVSZlHj"
      }
    },
    {
      "cell_type": "markdown",
      "source": [
        "## 6. Extrae característica de cada región: el área, la longitud del eje mayor y la orientación de cada región. Informa de los valores promedio de las características extraídas. Representa un diagrama de dispersión (scatterplot) del área frente a la longitud del eje mayor.\n",
        "\n",
        "*(1,5 puntos)*"
      ],
      "metadata": {
        "id": "QvNy4xpypTU9"
      }
    },
    {
      "cell_type": "markdown",
      "source": [
        "## 7. Usando las regiones etiquetadas de la imagen, ¿cómo puedes filtrar las regiones para encontrar aquellas con un área mayor de 4000 píxeles? Indica cuántas regiones de ese tipo hay.\n",
        "*(1,5 puntos)*"
      ],
      "metadata": {
        "id": "Faq0OhrLqU8O"
      }
    },
    {
      "cell_type": "markdown",
      "source": [
        "## 8. Ahora usaremos el algoritmo Otsu utilizando la imagen sin ruído. Muestra los resultados e indica el número de regiones detectadas.\n",
        "\n",
        "*(2 puntos)*"
      ],
      "metadata": {
        "id": "u2BhPVzwx2Jv"
      }
    },
    {
      "cell_type": "markdown",
      "source": [
        "## 9. CONCLUSIÓN FINAL\n",
        "\n",
        "- Que método ha funcionado mejor? Has obtenido los mismos resultados? Razona y discute los resultados.\n",
        "- Haz una valoración general del curso y de los conceptos aprendidos.\n",
        "\n",
        "*(1 punto)*"
      ],
      "metadata": {
        "id": "ZR7b5quWDmf5"
      }
    }
  ]
}